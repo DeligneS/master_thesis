{
 "cells": [
  {
   "cell_type": "code",
   "execution_count": 22,
   "metadata": {},
   "outputs": [],
   "source": [
    "import sys\n",
    "sys.path.append(\"../../../\")"
   ]
  },
  {
   "cell_type": "code",
   "execution_count": null,
   "metadata": {},
   "outputs": [],
   "source": [
    "from src.preprocessing.data_processing import process_file_from_wizard\n",
    "\n",
    "file_path = \"../data/Test_XH430W350_20240209/Test_3_Rotor_Bloque.csv\"\n",
    "file_path2 = \"../data/Test_XH430W350_20240209/Rotor_bloqué.csv\"\n",
    "file_path3 = \"../data/Test_XH430W350_20240209/Test2_rotor_bloqué.csv\"\n",
    "\n",
    "df = process_file_from_wizard(file_path)\n",
    "df2 = process_file_from_wizard(file_path2)\n",
    "df3 = process_file_from_wizard(file_path3)\n",
    "\n",
    "df['DXL_Position'] = df['DXL_Position'] - df['DXL_Position'][0]\n",
    "df = df[:].reset_index(drop=True)\n",
    "df"
   ]
  },
  {
   "cell_type": "code",
   "execution_count": null,
   "metadata": {},
   "outputs": [],
   "source": [
    "from src.plotting import plot_measured_U, plot_measured_I\n",
    "\n",
    "# liste = split_data(df)\n",
    "plot_measured_U(df[4000:9700])\n",
    "plot_measured_I(df[4000:9700])\n",
    "df = df[4000:9700]\n",
    "df = df[:].reset_index(drop=True)\n",
    "\n",
    "plot_measured_U(df2[:12500])\n",
    "plot_measured_I(df2[:12500])\n",
    "df2 = df2[:12500]\n",
    "df2 = df2[:].reset_index(drop=True)\n",
    "\n",
    "plot_measured_U(df3[5000:22000])\n",
    "plot_measured_I(df3[5000:22000])\n",
    "df3 = df3[5000:22000]\n",
    "df3 = df3[:].reset_index(drop=True)\n"
   ]
  },
  {
   "cell_type": "code",
   "execution_count": null,
   "metadata": {},
   "outputs": [],
   "source": [
    "import matplotlib as mpl\n",
    "\n",
    "# Set the font size globally\n",
    "mpl.rcParams.update({'font.size': 20})  # Change 14 to your desired font size\n",
    "df2toplot = df2[:12500].reset_index(drop=True)\n",
    "df2toplot['t'] -= df2toplot['t'][0]\n",
    "\n",
    "df3toplot = df3[5000:22000].reset_index(drop=True)\n",
    "df3toplot['t'] -= df3toplot['t'][0]\n",
    "\n",
    "plot_measured_U(df2toplot, df3toplot)\n",
    "plot_measured_I(df2toplot, df3toplot)"
   ]
  },
  {
   "cell_type": "code",
   "execution_count": null,
   "metadata": {},
   "outputs": [],
   "source": [
    "import matplotlib.pyplot as plt\n",
    "import matplotlib as mpl\n",
    "\n",
    "def plot_combined_graph(df_slow, df_fast=None, label1='Experiment 1', label2='Experiment 2'):\n",
    "    # Create a figure and a single set of axes\n",
    "    fig, ax1 = plt.subplots(figsize=(10, 6))\n",
    "\n",
    "    # Plot the voltage data on the primary y-axis\n",
    "    color = 'tab:red'\n",
    "    ax1.set_xlabel('Time [s]')\n",
    "    ax1.set_ylabel('Voltage [V]', color=color)\n",
    "    ax1.plot(df_slow['t'], df_slow['U'], label=f\"{label1} Voltage\", color=color)\n",
    "    if df_fast is not None:\n",
    "        ax1.plot(df_fast['t'], df_fast['U'], label=f\"{label2} Voltage\", color=color, linestyle='dashdot')\n",
    "    ax1.tick_params(axis='y', labelcolor=color)\n",
    "    ax1.legend(loc='upper left')\n",
    "\n",
    "    # Create a secondary y-axis for the current data\n",
    "    ax2 = ax1.twinx()  # instantiate a second axes that shares the same x-axis\n",
    "    color = 'tab:blue'\n",
    "    ax2.set_ylabel('Current [mA]', color=color)  # we already handled the x-label with ax1\n",
    "    ax2.plot(df_slow['t'], df_slow['DXL_Current'] * 1000, label=f\"{label1} Current\", color=color)\n",
    "    if df_fast is not None:\n",
    "        ax2.plot(df_fast['t'], df_fast['DXL_Current'] * 1000, label=f\"{label2} Current\", color=color, linestyle='dashdot')\n",
    "    ax2.tick_params(axis='y', labelcolor=color)\n",
    "    ax2.legend(loc='upper right')\n",
    "\n",
    "    # Optionally, add a title\n",
    "    # plt.title('Measured Voltage and Current')\n",
    "\n",
    "    fig.tight_layout()  # to ensure the right y-label is not slightly cut off\n",
    "    plt.show()\n",
    "\n",
    "# Set the font size globally\n",
    "mpl.rcParams.update({'font.size': 15})  # Change 14 to your desired font size\n",
    "\n",
    "# Assuming df2toplot and df3toplot are defined and formatted as in the original code\n",
    "\n",
    "plot_combined_graph(df2toplot, df3toplot)\n"
   ]
  },
  {
   "cell_type": "code",
   "execution_count": null,
   "metadata": {},
   "outputs": [],
   "source": [
    "import matplotlib as mpl\n",
    "\n",
    "# Set the font size globally\n",
    "mpl.rcParams.update({'font.size': 16})  # Change 14 to your desired font size\n",
    "\n",
    "df['Ra'] = df['U'] / df['DXL_Current']\n",
    "df2['Ra'] = df2['U'] / df2['DXL_Current']\n",
    "df3['Ra'] = df3['U'] / df3['DXL_Current']\n",
    "\n",
    "mean_Ra = df['Ra'].mean()\n",
    "mean_Ra2 = df2['Ra'].mean()\n",
    "mean_Ra3 = df3['Ra'].mean()\n",
    "print(mean_Ra2)\n",
    "print(mean_Ra3)\n",
    "print((mean_Ra2 + mean_Ra3) / 2)\n",
    "plt.figure(figsize=(10, 6))\n",
    "# plt.plot(df['Ra'])\n",
    "plt.scatter(df2.index, df2['Ra'], label='Experiment 1')\n",
    "plt.scatter(df3.index, df3['Ra'], label='Experiment 2')\n",
    "# plt.axhline(y=mean_Ra, color='g', linestyle='--', label=r'$\\tau_s$')\n",
    "plt.axhline(y=mean_Ra2, color='b', linestyle='--', label=r'$R_a$ with Experiment 1')\n",
    "plt.axhline(y=mean_Ra3, color='orange', linestyle='--', label=r'$R_a$ with Experiment 2')\n",
    "plt.xlabel('Sample')\n",
    "text = r'[$\\Omega$]'\n",
    "plt.ylabel(f'Armature \\n Resistance \\n {text}', rotation=0, labelpad=40)\n",
    "plt.title(f'Estimated armature resistance')\n",
    "plt.legend()\n",
    "plt.show()\n",
    "\n",
    "# Note : présenter aussi les mesures de tension/courant pour expliquer la distortion (sinon on peut se demander quid pourquoi on a ça)\n",
    "# Valeur identifiée finale : 9.3756 [Ohm]"
   ]
  }
 ],
 "metadata": {
  "kernelspec": {
   "display_name": ".venv",
   "language": "python",
   "name": "python3"
  },
  "language_info": {
   "codemirror_mode": {
    "name": "ipython",
    "version": 3
   },
   "file_extension": ".py",
   "mimetype": "text/x-python",
   "name": "python",
   "nbconvert_exporter": "python",
   "pygments_lexer": "ipython3",
   "version": "3.10.11"
  }
 },
 "nbformat": 4,
 "nbformat_minor": 2
}
