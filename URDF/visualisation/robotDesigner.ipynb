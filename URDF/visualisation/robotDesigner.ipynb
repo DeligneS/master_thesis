{
 "cells": [
  {
   "cell_type": "code",
   "execution_count": 1,
   "metadata": {},
   "outputs": [
    {
     "name": "stderr",
     "output_type": "stream",
     "text": [
      "┌ Warning: attempting to remove probably stale pidfile\n",
      "│   path = /Users/simondeligne/.jlassetregistry.lock\n",
      "└ @ Pidfile /Users/simondeligne/.julia/packages/Pidfile/DDu3M/src/Pidfile.jl:260\n"
     ]
    }
   ],
   "source": [
    "# using StaticArrays\n",
    "using RigidBodyDynamics\n",
    "using MeshCatMechanisms\n",
    "# using LinearAlgebra\n",
    "using MeshCat"
   ]
  },
  {
   "cell_type": "markdown",
   "metadata": {},
   "source": [
    "# Load mechanism"
   ]
  },
  {
   "cell_type": "code",
   "execution_count": 8,
   "metadata": {},
   "outputs": [
    {
     "data": {
      "text/plain": [
       "Spanning tree:\n",
       "Vertex: world (root)\n",
       "  Vertex: leg_top_full_asmb, Edge: hip_right\n",
       "    Vertex: leg_bottom_asmb, Edge: knee_right\n",
       "No non-tree joints."
      ]
     },
     "metadata": {},
     "output_type": "display_data"
    }
   ],
   "source": [
    "# urdf_path = \"deps/biped_robot.urdf\"\n",
    "# urdf_path = \"deps/ZMP_2DBipedRobot_noContacts.urdf\"\n",
    "# urdf_path = \"deps/double_pendulum_obst.urdf\"\n",
    "# urdf_path = \"deps/urdf/full_robot.urdf\"\n",
    "# urdf_path = \"deps/robot.urdf\"\n",
    "# urdf_path = \"deps/doublependulum_new_knee_fixed.urdf\"\n",
    "urdf_path = \"../utils/urdfs/single_pendulum_hip/robot.urdf\"\n",
    "urdf_path = \"../utils/urdfs/double_pendulum_right/robot.urdf\"\n",
    "# urdf_path = \"../utils/urdfs/bipedal_robot/robot.urdf\"\n",
    "# urdf_path = \"../utils/urdfs/bipedal_robot_fixed/robot.urdf\"\n",
    "# urdf_path = \"../utils/urdfs/robot.urdf\"\n",
    "# urdf_path = \"deps/ZMP_3DBipedRobot.urdf\"\n",
    "robot = parse_urdf(Float64, urdf_path)\n",
    "remove_fixed_tree_joints!(robot)"
   ]
  },
  {
   "cell_type": "code",
   "execution_count": 3,
   "metadata": {},
   "outputs": [
    {
     "data": {
      "text/plain": [
       "Spanning tree:\n",
       "Vertex: world (root)\n",
       "  Vertex: leg_top_full_asmb, Edge: hip_right\n",
       "    Vertex: leg_bottom_asmb, Edge: knee_right\n",
       "No non-tree joints."
      ]
     },
     "metadata": {},
     "output_type": "display_data"
    }
   ],
   "source": [
    "include(\"../last_mtk_version/model_urdf.jl\")\n",
    "using RigidBodyDynamics\n",
    "robot = get_mechanism(;wanted_mech = \"double_pendulum\")\n"
   ]
  },
  {
   "cell_type": "code",
   "execution_count": 4,
   "metadata": {},
   "outputs": [
    {
     "data": {
      "text/plain": [
       "2-element Vector{Joint{Float64, JT} where JT<:JointType{Float64}}:\n",
       " Joint \"hip_right\": Revolute joint with axis [0.0, 0.0, 1.0]\n",
       " Joint \"knee_right\": Revolute joint with axis [0.0, 0.0, 1.0]"
      ]
     },
     "metadata": {},
     "output_type": "display_data"
    }
   ],
   "source": [
    "joints(robot)"
   ]
  },
  {
   "cell_type": "markdown",
   "metadata": {},
   "source": [
    "# Add ground"
   ]
  },
  {
   "cell_type": "code",
   "execution_count": null,
   "metadata": {},
   "outputs": [],
   "source": [
    "frame = root_frame(robot)\n",
    "ground = HalfSpace3D(Point3D(frame, 0., 0., -5), FreeVector3D(frame, 0., 0., 1.))\n",
    "add_environment_primitive!(robot, ground)"
   ]
  },
  {
   "cell_type": "markdown",
   "metadata": {},
   "source": [
    "# Visualisation"
   ]
  },
  {
   "cell_type": "code",
   "execution_count": null,
   "metadata": {},
   "outputs": [],
   "source": [
    "vis = MechanismVisualizer(robot, URDFVisuals(urdf_path));"
   ]
  },
  {
   "cell_type": "markdown",
   "metadata": {},
   "source": [
    "# Define and set the State"
   ]
  },
  {
   "cell_type": "code",
   "execution_count": 5,
   "metadata": {},
   "outputs": [
    {
     "data": {
      "text/plain": [
       "MechanismState{Float64, Float64, Float64, …}(…)"
      ]
     },
     "metadata": {},
     "output_type": "display_data"
    }
   ],
   "source": [
    "state = MechanismState(robot)"
   ]
  },
  {
   "cell_type": "code",
   "execution_count": 10,
   "metadata": {},
   "outputs": [
    {
     "data": {
      "text/plain": [
       "5-element SegmentedVector{JointID, Float64, Base.OneTo{JointID}, Vector{Float64}}:\n",
       " 0.0\n",
       " 0.0\n",
       " 0.0\n",
       " 0.0\n",
       " 0.0"
      ]
     },
     "metadata": {},
     "output_type": "display_data"
    }
   ],
   "source": [
    "velocity(state)"
   ]
  },
  {
   "cell_type": "code",
   "execution_count": 11,
   "metadata": {},
   "outputs": [
    {
     "data": {
      "text/plain": [
       "5×5 LinearAlgebra.Symmetric{Float64, Matrix{Float64}}:\n",
       " 0.0185639   0.0         0.00464347  0.0         0.0\n",
       " 0.0         0.0185639   0.0         0.00464347  0.0\n",
       " 0.00464347  0.0         0.00187312  0.0         0.0\n",
       " 0.0         0.00464347  0.0         0.00187312  0.0\n",
       " 0.0         0.0         0.0         0.0         0.0"
      ]
     },
     "metadata": {},
     "output_type": "display_data"
    }
   ],
   "source": [
    "mass_matrix(state)"
   ]
  },
  {
   "cell_type": "code",
   "execution_count": 69,
   "metadata": {},
   "outputs": [
    {
     "data": {
      "text/plain": [
       "SegmentedVector{JointID, Float64, Base.OneTo{JointID}, Vector{Float64}}"
      ]
     },
     "metadata": {},
     "output_type": "display_data"
    }
   ],
   "source": [
    "SegmentedVector{JointID, Float64, Base.OneTo{JointID}, Vector{Float64}}"
   ]
  },
  {
   "cell_type": "code",
   "execution_count": 44,
   "metadata": {},
   "outputs": [
    {
     "data": {
      "text/plain": [
       "5-element Vector{Joint{Float64, JT} where JT<:JointType{Float64}}:\n",
       " Joint \"foot\": Revolute joint with axis [0.0, 0.0, 1.0]\n",
       " Joint \"knee_left\": Revolute joint with axis [0.0, 0.0, 1.0]\n",
       " Joint \"hip_left\": Revolute joint with axis [0.0, 0.0, 1.0]\n",
       " Joint \"hip_right\": Revolute joint with axis [0.0, 0.0, 1.0]\n",
       " Joint \"knee_right\": Revolute joint with axis [0.0, 0.0, 1.0]"
      ]
     },
     "metadata": {},
     "output_type": "display_data"
    }
   ],
   "source": [
    "# Let's first set the configurations and velocities of the joints:\n",
    "#free_joint, shoulder_left, shoulder_right, elbow_left, elbow_right = joints(robot)\n",
    "# hip_right, hip_left, knee_right, knee_left = joints(robot)\n",
    "foot, knee_left, hip_left, hip_right, knee_right = joints(robot)\n",
    "# hip_right = joints(robot)\n",
    "# hip_right, knee_right = joints(robot)"
   ]
  },
  {
   "cell_type": "code",
   "execution_count": 55,
   "metadata": {},
   "outputs": [
    {
     "name": "stdout",
     "output_type": "stream",
     "text": [
      "q=[0.0, 0.3141592653589793, 0.3141592653589793, 0.3141592653589793, 0.3141592653589793]\n",
      "v=[0.0, 0.0, 0.0, 0.0, 0.0]"
     ]
    }
   ],
   "source": [
    "# set_configuration!(state, hip_right, pi/2)\n",
    "# set_configuration!(state, knee_right, pi/2)\n",
    "# set_configuration!(state, hip_left, 0)\n",
    "# set_configuration!(state, knee_left, pi/2)\n",
    "\n",
    "set_configuration!(state, hip_right, pi/10)\n",
    "set_configuration!(state, knee_right, pi/10)\n",
    "set_configuration!(state, hip_left, pi/10)\n",
    "set_configuration!(state, knee_left, pi/10)\n",
    "\n",
    "\n",
    "# set_configuration!(state, hip_right, 0)\n",
    "# set_configuration!(state, knee_right, 0)\n",
    "# set_configuration!(state, hip_left, 0)\n",
    "# set_configuration!(state, knee_left, 0)\n",
    "\n",
    "set_configuration!(state, foot, 0)\n",
    "\n",
    "# set_velocity!(state, hip_right, 10)\n",
    "# set_velocity!(state, knee_right, 0)\n",
    "# set_velocity!(state, hip_left, 0)\n",
    "# set_velocity!(state, knee_left, 0)\n",
    "zero_velocity!(state)\n",
    "# **Important**: a `MechanismState` contains cache variables that depend on the configurations and velocities of the joints. These need to be invalidated when the configurations and velocities are changed. To do this, call\n",
    "setdirty!(state)\n",
    "\n",
    "q = configuration(state)\n",
    "v = velocity(state)\n",
    "print(\"q=$q\\nv=$v\")"
   ]
  },
  {
   "cell_type": "code",
   "execution_count": 142,
   "metadata": {},
   "outputs": [
    {
     "data": {
      "text/plain": [
       "2-element Vector{Float64}:\n",
       " -0.5967035268827747\n",
       " -0.2770151409765261"
      ]
     },
     "metadata": {},
     "output_type": "display_data"
    }
   ],
   "source": [
    "v̇ = similar(velocity(state))\n",
    "v̇[hip_right][1] = 0.\n",
    "v̇[knee_right][1] = 0.\n",
    "τ_dynamics = -inverse_dynamics(state, v̇)"
   ]
  },
  {
   "cell_type": "code",
   "execution_count": 143,
   "metadata": {},
   "outputs": [
    {
     "data": {
      "text/plain": [
       "2-element Vector{Float64}:\n",
       " -0.5967035268827747\n",
       " -0.2770151409765261"
      ]
     },
     "metadata": {},
     "output_type": "display_data"
    }
   ],
   "source": [
    "v̇ = copy(velocity(state))\n",
    "v̇[1] = 0.\n",
    "v̇[2] = 0.\n",
    "τ_dynamics = -inverse_dynamics(state, v̇)"
   ]
  },
  {
   "cell_type": "code",
   "execution_count": null,
   "metadata": {},
   "outputs": [],
   "source": [
    "set_configuration!(vis, configuration(state))"
   ]
  },
  {
   "cell_type": "code",
   "execution_count": 22,
   "metadata": {},
   "outputs": [
    {
     "data": {
      "text/plain": [
       "2-element SegmentedVector{JointID, Float64, Base.OneTo{JointID}, Vector{Float64}}:\n",
       " 0.13506931270115186\n",
       " 0.1350413970002453"
      ]
     },
     "metadata": {},
     "output_type": "display_data"
    }
   ],
   "source": [
    "set_configuration!(state, [0, pi/2]) # hip, knee\n",
    "# set_configuration!(actual_state, [pi/2])\n",
    "\n",
    "zero_velocity!(state)\n",
    "\n",
    "v̇ = similar(velocity(state))\n",
    "fill!(v̇, 0.0)\n",
    "τ_dynamics = -inverse_dynamics(state, v̇)\n",
    "C = dynamics_bias(state)"
   ]
  },
  {
   "cell_type": "markdown",
   "metadata": {},
   "source": [
    "# Simulation"
   ]
  },
  {
   "cell_type": "code",
   "execution_count": 23,
   "metadata": {},
   "outputs": [],
   "source": [
    "ts, qs, vs = simulate(state, 1., Δt = 1e-3);"
   ]
  },
  {
   "cell_type": "code",
   "execution_count": 18,
   "metadata": {},
   "outputs": [
    {
     "name": "stderr",
     "output_type": "stream",
     "text": [
      "┌ Info: MeshCat server started. You can open the visualizer by visiting the following URL in your browser:\n",
      "│ http://127.0.0.1:8703\n",
      "└ @ MeshCat /Users/simondeligne/.julia/packages/MeshCat/oC0sL/src/visualizer.jl:73\n"
     ]
    }
   ],
   "source": [
    "mvis = MechanismVisualizer(robot, URDFVisuals(urdf_path))\n",
    "animation = Animation(mvis, ts, qs)\n",
    "setanimation!(mvis, animation)\n",
    "\n",
    "# Create a MechanismVisualizer and visualize\n",
    "MeshCatMechanisms.animate(mvis, ts, qs; realtimerate = 1.)"
   ]
  },
  {
   "cell_type": "code",
   "execution_count": null,
   "metadata": {},
   "outputs": [],
   "source": []
  },
  {
   "cell_type": "code",
   "execution_count": null,
   "metadata": {},
   "outputs": [],
   "source": []
  }
 ],
 "metadata": {
  "kernelspec": {
   "display_name": "Julia 1.10.2",
   "language": "julia",
   "name": "julia-1.10"
  },
  "language_info": {
   "file_extension": ".jl",
   "mimetype": "application/julia",
   "name": "julia",
   "version": "1.10.2"
  }
 },
 "nbformat": 4,
 "nbformat_minor": 2
}
