{
 "cells": [
  {
   "cell_type": "code",
   "execution_count": null,
   "metadata": {},
   "outputs": [],
   "source": [
    "using RigidBodyDynamics\n",
    "using MeshCatMechanisms\n",
    "using MeshCat"
   ]
  },
  {
   "cell_type": "markdown",
   "metadata": {},
   "source": [
    "# Visualiser\n",
    "The purpose of this notebook is to visualise the built urdfs with onshape, and identify potential issues.\n",
    "There is a separate environment for this notebook because there are compatibility issues between MeshCatMechanisms and ModelingToolkit for instance.\n",
    "\n",
    "## 1. Load mechanism"
   ]
  },
  {
   "cell_type": "code",
   "execution_count": null,
   "metadata": {},
   "outputs": [],
   "source": [
    "urdf_path = \"single_pendulum_hip/robot.urdf\"\n",
    "urdf_path = \"double_pendulum_right/robot.urdf\"\n",
    "urdf_path = \"single_pendulum_knee/robot.urdf\"\n",
    "urdf_path = \"bipedal_robot/robot.urdf\"\n",
    "robot = parse_urdf(Float64, urdf_path)\n",
    "remove_fixed_tree_joints!(robot)\n",
    "joints(robot)"
   ]
  },
  {
   "cell_type": "markdown",
   "metadata": {},
   "source": [
    "## 2. Visualisation"
   ]
  },
  {
   "cell_type": "code",
   "execution_count": null,
   "metadata": {},
   "outputs": [],
   "source": [
    "vis = MechanismVisualizer(robot, URDFVisuals(urdf_path));"
   ]
  },
  {
   "cell_type": "markdown",
   "metadata": {},
   "source": [
    "## 3. Further analysis\n",
    "\n",
    "### Define and set the state"
   ]
  },
  {
   "cell_type": "code",
   "execution_count": null,
   "metadata": {},
   "outputs": [],
   "source": [
    "state = MechanismState(robot)"
   ]
  },
  {
   "cell_type": "code",
   "execution_count": null,
   "metadata": {},
   "outputs": [],
   "source": [
    "# Let's first set the configurations and velocities of the joints:\n",
    "#free_joint, shoulder_left, shoulder_right, elbow_left, elbow_right = joints(robot)\n",
    "hip_right, hip_left, knee_right, knee_left = joints(robot)\n",
    "# foot, knee_left, hip_left, hip_right, knee_right = joints(robot)\n",
    "# hip_right = joints(robot)\n",
    "# hip_right, knee_right = joints(robot)"
   ]
  },
  {
   "cell_type": "code",
   "execution_count": null,
   "metadata": {},
   "outputs": [],
   "source": [
    "set_configuration!(state, hip_right, pi/2)\n",
    "set_configuration!(state, knee_right, pi/2)\n",
    "set_configuration!(state, hip_left, 0)\n",
    "set_configuration!(state, knee_left, pi/2)\n",
    "\n",
    "# set_configuration!(state, hip_right, pi/10)\n",
    "# set_configuration!(state, knee_right, pi/10)\n",
    "# set_configuration!(state, hip_left, pi/10)\n",
    "# set_configuration!(state, knee_left, pi/10)\n",
    "\n",
    "# set_configuration!(state, hip_right, 0)\n",
    "# set_configuration!(state, knee_right, 0)\n",
    "# set_configuration!(state, hip_left, 0)\n",
    "# set_configuration!(state, knee_left, 0)\n",
    "\n",
    "# set_configuration!(state, foot, 0)\n",
    "\n",
    "# set_velocity!(state, hip_right, 10)\n",
    "# set_velocity!(state, knee_right, 0)\n",
    "# set_velocity!(state, hip_left, 0)\n",
    "# set_velocity!(state, knee_left, 0)\n",
    "zero_velocity!(state)\n",
    "# **Important**: a `MechanismState` contains cache variables that depend on the configurations and velocities of the joints. These need to be invalidated when the configurations and velocities are changed. To do this, call\n",
    "setdirty!(state)\n",
    "\n",
    "q = configuration(state)\n",
    "v = velocity(state)\n",
    "print(\"q=$q\\nv=$v\")"
   ]
  },
  {
   "cell_type": "markdown",
   "metadata": {},
   "source": [
    "### Simulation"
   ]
  },
  {
   "cell_type": "code",
   "execution_count": null,
   "metadata": {},
   "outputs": [],
   "source": [
    "ts, qs, vs = simulate(state, 1., Δt = 1e-3);"
   ]
  },
  {
   "cell_type": "code",
   "execution_count": null,
   "metadata": {},
   "outputs": [],
   "source": [
    "mvis = MechanismVisualizer(robot, URDFVisuals(urdf_path))\n",
    "animation = Animation(mvis, ts, qs)\n",
    "setanimation!(mvis, animation)\n",
    "\n",
    "# Create a MechanismVisualizer and visualize\n",
    "MeshCatMechanisms.animate(mvis, ts, qs; realtimerate = 1.)"
   ]
  },
  {
   "cell_type": "markdown",
   "metadata": {},
   "source": [
    "## Same with model_urdf.jl"
   ]
  },
  {
   "cell_type": "code",
   "execution_count": null,
   "metadata": {},
   "outputs": [],
   "source": [
    "include(\"model_urdf.jl\")\n",
    "get_mechanism(wanted_mech =\"double_pendulum\")"
   ]
  }
 ],
 "metadata": {
  "kernelspec": {
   "display_name": "Julia 1.10.2",
   "language": "julia",
   "name": "julia-1.10"
  },
  "language_info": {
   "file_extension": ".jl",
   "mimetype": "application/julia",
   "name": "julia",
   "version": "1.10.2"
  }
 },
 "nbformat": 4,
 "nbformat_minor": 2
}
