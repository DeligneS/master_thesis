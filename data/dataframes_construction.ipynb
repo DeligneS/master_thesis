{
 "cells": [
  {
   "cell_type": "code",
   "execution_count": 21,
   "metadata": {},
   "outputs": [
    {
     "data": {
      "text/plain": [
       "108"
      ]
     },
     "execution_count": 21,
     "metadata": {},
     "output_type": "execute_result"
    }
   ],
   "source": [
    "import matplotlib.pyplot as plt\n",
    "import pandas as pd\n",
    "import glob\n",
    "from src.data_processing import process_file, compute_physical, process_file_from_wizard, split_experiments\n",
    "\n",
    "folder_path = \"data/Test_XH430W350_20240209/PWM_control/*.csv\"\n",
    "\n",
    "# List to store each processed dataframe\n",
    "processed_dataframes = []\n",
    "\n",
    "# Iterate over all CSV files in the folder\n",
    "for file_path in glob.glob(folder_path):\n",
    "    # Apply processing function to the dataframe\n",
    "    processed_df = process_file_from_wizard(file_path)\n",
    "    experiments_split = split_experiments(processed_df)\n",
    "    \n",
    "    # Store the processed dataframe in the list\n",
    "    processed_dataframes.extend(experiments_split)\n",
    "\n",
    "external_inertia = 0.0022421143208 # Msolo\n",
    "Ra = 9.3756 # [Ohm]\n",
    "kt = 2.6657\n",
    "ke = 0.8594\n",
    "ke = 3.75286\n",
    "\n",
    "parameters = ke, kt, Ra, 0.080964165, 0.0665140867408596, 0.203719639, 0.04217117990939209, 0.0155818308\n",
    "\n",
    "len(processed_dataframes)"
   ]
  },
  {
   "cell_type": "code",
   "execution_count": 17,
   "metadata": {},
   "outputs": [
    {
     "data": {
      "text/plain": [
       "108"
      ]
     },
     "execution_count": 17,
     "metadata": {},
     "output_type": "execute_result"
    }
   ],
   "source": [
    "import numpy as np\n",
    "\n",
    "# Some pre-computations\n",
    "new_dfs = []\n",
    "for df in processed_dataframes:\n",
    "    df['tau_U'] = (kt / Ra) * (df['U'] - ke * df['DXL_Velocity'])\n",
    "    df['tau_I'] = df['DXL_Current'] * kt\n",
    "    df['tau'] = df['tau_U']\n",
    "    delta_t = np.diff(df['t'])\n",
    "    delta_t = np.insert(delta_t, 0, 0.0001)\n",
    "    df['delta_t'] = delta_t\n",
    "\n",
    "    # Calculate Δx (change in position)\n",
    "    delta_x = np.diff(df['DXL_Position'])\n",
    "    delta_x = np.insert(delta_x, 0, 0)\n",
    "    df['delta_x'] = delta_x\n",
    "\n",
    "    # Calculate velocity (Δx/Δt)\n",
    "    df['Velocity_from_position'] = delta_x / delta_t\n",
    "\n",
    "    # Acceleration computation\n",
    "    delta_v = np.diff(df['Velocity_from_position'])\n",
    "    delta_v = np.insert(delta_v, 0, 0)\n",
    "    df['Acceleration_from_Velocity_from_position'] = delta_v / delta_t\n",
    "\n",
    "    delta_v = np.diff(df['DXL_Velocity'])\n",
    "    delta_v = np.insert(delta_v, 0, 0)\n",
    "    df['Acceleration_from_DXL_Velocity'] = delta_v / delta_t\n",
    "\n",
    "    new_dfs.append(df)\n",
    "len(new_dfs)"
   ]
  },
  {
   "cell_type": "code",
   "execution_count": 22,
   "metadata": {},
   "outputs": [],
   "source": [
    "import pickle\n",
    "\n",
    "# Assuming `list_of_dataframes` is your list of pandas DataFrames\n",
    "with open('dataframes_list2.pkl', 'wb') as file:\n",
    "    pickle.dump(new_dfs, file)"
   ]
  },
  {
   "cell_type": "code",
   "execution_count": null,
   "metadata": {},
   "outputs": [],
   "source": [
    "# In future codes, do this to load the dfs\n",
    "with open('dataframes_list.pkl', 'rb') as file:\n",
    "    processed_dataframes = pickle.load(file)"
   ]
  },
  {
   "cell_type": "code",
   "execution_count": null,
   "metadata": {},
   "outputs": [],
   "source": [
    "from src.modelisation import friction_torque\n",
    "\n",
    "\n",
    "for df in new_dfs:\n",
    "    parameters_to_find = kt, Ra, 0.080964165, 0.0665140867408596, 0.203719639, 0.04217117990939209, 0.0155818308\n",
    "    friction_torque(df, parameters_to_find)\n",
    "    df['tau_o'] = np.where(\n",
    "        df['DXL_Velocity'] == 0,\n",
    "        np.where(\n",
    "            np.abs(df['tau_f']) >= np.abs(df['tau']),\n",
    "            0,\n",
    "            df['tau'] - np.sign(df['tau']) * df['tau_f']\n",
    "        ),\n",
    "        np.where(\n",
    "            (df['tau'] * df['DXL_Velocity'] > 0) & (np.abs(df['tau_f']) < np.abs(df['tau'])),\n",
    "            df['tau'] - np.sign(df['tau']) * df['tau_f'],\n",
    "            0\n",
    "        )\n",
    "    )\n",
    "    df['a'] = (df['tau_o']) /( 0.0155818308 + external_inertia)\n",
    "    # Filter the dataframe for rows where acceleration is not zero\n",
    "    acceleration_periods = df[df['a'] != 0]\n",
    "\n",
    "    # Sum the 'delta_t' column of the filtered dataframe\n",
    "    total_delta_t_acc = acceleration_periods['delta_t'].sum()\n",
    "    plt.figure(figsize=(10, 6))\n",
    "    plt.plot(df['t'][:100]-df['t'][0], df['Acceleration_from_DXL_Velocity'][:100], label='acceleration from measured velocity')\n",
    "    # plt.plot(df['DXL_Velocity'][100:], label='acceleration')\n",
    "    plt.plot(df['t'][:100]-df['t'][0], df['a'][:100], label='acceleration from motor mechanical equation')\n",
    "    plt.xlabel('Time (s)')\n",
    "    plt.ylabel(r'Acceleration [$rad/s^2$]')\n",
    "    plt.title(f'Acceleration comparison')\n",
    "    plt.legend()\n",
    "    plt.show()"
   ]
  }
 ],
 "metadata": {
  "kernelspec": {
   "display_name": ".venv",
   "language": "python",
   "name": "python3"
  },
  "language_info": {
   "codemirror_mode": {
    "name": "ipython",
    "version": 3
   },
   "file_extension": ".py",
   "mimetype": "text/x-python",
   "name": "python",
   "nbconvert_exporter": "python",
   "pygments_lexer": "ipython3",
   "version": "3.10.11"
  }
 },
 "nbformat": 4,
 "nbformat_minor": 2
}
